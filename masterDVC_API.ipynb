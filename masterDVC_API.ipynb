{
 "metadata": {
  "language_info": {
   "codemirror_mode": {
    "name": "ipython",
    "version": 3
   },
   "file_extension": ".py",
   "mimetype": "text/x-python",
   "name": "python",
   "nbconvert_exporter": "python",
   "pygments_lexer": "ipython3",
   "version": "3.8.5-final"
  },
  "orig_nbformat": 2,
  "kernelspec": {
   "name": "python3",
   "display_name": "Python 3",
   "language": "python"
  }
 },
 "nbformat": 4,
 "nbformat_minor": 2,
 "cells": [
  {
   "cell_type": "code",
   "execution_count": 2,
   "metadata": {},
   "outputs": [],
   "source": [
    "import dvc.api\n",
    "# import modin.pandas as pd\n",
    "import pandas as pd\n",
    "from pathlib import Path\n",
    "import numpy as np\n",
    "\n",
    "\n",
    "# use faker to generate fake data\n",
    "from faker.providers.person.en import Provider"
   ]
  },
  {
   "cell_type": "code",
   "execution_count": 6,
   "metadata": {},
   "outputs": [],
   "source": [
    "# with dvc.api.open(\"getDVCImport/dvc_import.txt\", repo = \"https://github.com/aadehamid/dvc-examples.git\") as fd:\n",
    "#     # you can read in the data using something like fd.read()\n",
    "#     # to do some work. The data disappears after the work is done. No download is necessary\n",
    "#     myData = fd.read()\n",
    "    \n",
    "# myData"
   ]
  },
  {
   "cell_type": "code",
   "execution_count": 19,
   "metadata": {},
   "outputs": [],
   "source": [
    "# generate fake data or analysis\n",
    "\n",
    "def random_names(name_type, size):\n",
    "    \"\"\"\n",
    "    Generate n-length ndarray of person names.\n",
    "    name_type: a string, either first_names or last_names\n",
    "\n",
    "    \"\"\"\n",
    "\n",
    "    names = getattr(Provider, name_type)\n",
    "    return np.random.choice(names, size=size)\n",
    "\n",
    "\n",
    "def random_genders(size, p=None):\n",
    "    \"\"\"Generate n-length ndarray of genders.\"\"\"\n",
    "    if not p:\n",
    "        # default probailities\n",
    "        p = (0.49, 0.49, 0.01, 0.01)\n",
    "    gender = ('M', 'F', 'O', '')\n",
    "    return np.random.choice(gender, size=size, p=p)\n",
    "\n",
    "def random_dates(start, end, size):\n",
    "    \"\"\"\n",
    "    Generate random dates within range between start and end.\n",
    "    Adapted from: https://stackoverflow.com/a/50668285\n",
    "    \"\"\"\n",
    "    # unix tiemstamps in nanoseconds by default, so divide it by\n",
    "    # 24*60*60*10**9 to convert to days.\n",
    "    divide_by = 24*60*60*10**9\n",
    "    start_u = start.value // divide_by\n",
    "    end_u = end.value // divide_by\n",
    "    return pd.to_datetime(np.random.randint(start_u, end_u, size), unit='D')\n",
    "\n",
    "\n",
    "# How many records do we want to create in our CSV? In this example\n",
    "# we are generating 10, but you could also find relatively fast results generating\n",
    "# much larger datasets\n",
    "size = 10\n",
    "\n",
    "df = pd.DataFrame(columns= ['First', 'Last', 'Gender', 'Birthdate'])\n",
    "df['First'] = random_names('first_names', size)\n",
    "df['Last'] = random_names('last_names', size)\n",
    "df['Gender'] = random_genders(size)\n",
    "df['Birthdate'] = random_dates(start=pd.to_datetime('1940-01-01'), end = pd.to_datetime('2008-01-01'), size=size)\n",
    "\n",
    "df.head(20)\n",
    "df.to_csv('C:/Users/hadesokan/SOMESH/rawData/fake_file.csv') # windows path\n",
    "# df.to_csv('./rawData/fake_file.csv') # Linux styel path"
   ]
  },
  {
   "cell_type": "code",
   "execution_count": 12,
   "metadata": {},
   "outputs": [
    {
     "output_type": "execute_result",
     "data": {
      "text/plain": [
       "WindowsPath('C:/Users/hadesokan/SOMESH')"
      ]
     },
     "metadata": {},
     "execution_count": 12
    }
   ],
   "source": [
    "somesh = Path.cwd();\n",
    "somesh\n"
   ]
  },
  {
   "cell_type": "code",
   "execution_count": 18,
   "metadata": {},
   "outputs": [
    {
     "output_type": "execute_result",
     "data": {
      "text/plain": [
       "[WindowsPath('C:/Users/hadesokan/SOMESH/.dvc'),\n",
       " WindowsPath('C:/Users/hadesokan/SOMESH/.dvcignore'),\n",
       " WindowsPath('C:/Users/hadesokan/SOMESH/.git'),\n",
       " WindowsPath('C:/Users/hadesokan/SOMESH/dvc-examples'),\n",
       " WindowsPath('C:/Users/hadesokan/SOMESH/dvcRemote'),\n",
       " WindowsPath('C:/Users/hadesokan/SOMESH/rawData')]"
      ]
     },
     "metadata": {},
     "execution_count": 18
    }
   ],
   "source": [
    "list(somesh.iterdir())"
   ]
  },
  {
   "cell_type": "code",
   "execution_count": 8,
   "metadata": {},
   "outputs": [
    {
     "output_type": "stream",
     "name": "stdout",
     "text": [
      "C:\\Users\\hadesokan\\SOMESH\n"
     ]
    }
   ],
   "source": [
    "%cd SOMESH"
   ]
  },
  {
   "cell_type": "code",
   "execution_count": null,
   "metadata": {},
   "outputs": [],
   "source": []
  }
 ]
}