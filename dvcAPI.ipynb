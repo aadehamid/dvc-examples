{
 "cells": [
  {
   "cell_type": "code",
   "execution_count": 6,
   "metadata": {},
   "outputs": [],
   "source": [
    "import dvc.api\n",
    "import modin.pandas as pd\n",
    "from pathlib import Path\n",
    "import numpy as np\n",
    "\n",
    "\n",
    "# use faker to generate fake data\n",
    "from faker.providers.person.en import Provider"
   ]
  },
  {
   "cell_type": "code",
   "execution_count": 2,
   "metadata": {},
   "outputs": [],
   "source": [
    "with dvc.api.open(\"data/data.xml\", repo = \"https://github.com/aadehamid/dvc-trials.git\") as fd:\n",
    "    # you can read in the data using something like fd.read()\n",
    "    # to do some work. The data disappears after the work is done. No download is necessary\n",
    "    pass\n",
    "    \n"
   ]
  },
  {
   "cell_type": "code",
   "execution_count": 7,
   "metadata": {},
   "outputs": [],
   "source": [
    "# generate fake data or analysis\n",
    "\n",
    "def random_names(name_type, size):\n",
    "    \"\"\"\n",
    "    Generate n-length ndarray of person names.\n",
    "    name_type: a string, either first_names or last_names\n",
    "\n",
    "    \"\"\"\n",
    "\n",
    "    names = getattr(Provider, name_type)\n",
    "    return np.random.choice(names, size=size)\n",
    "\n",
    "\n",
    "def random_genders(size, p=None):\n",
    "    \"\"\"Generate n-length ndarray of genders.\"\"\"\n",
    "    if not p:\n",
    "        # default probailities\n",
    "        p = (0.49, 0.49, 0.01, 0.01)\n",
    "    gender = ('M', 'F', 'O', '')\n",
    "    return np.random.choice(gender, size=size, p=p)\n",
    "\n",
    "def random_dates(start, end, size):\n",
    "    \"\"\"\n",
    "    Generate random dates within range between start and end.\n",
    "    Adapted from: https://stackoverflow.com/a/50668285\n",
    "    \"\"\"\n",
    "    # unix tiemstamps in nanoseconds by default, so divide it by\n",
    "    # 24*60*60*10**9 to convert to days.\n",
    "    divide_by = 24*60*60*10**9\n",
    "    start_u = start.value // divide_by\n",
    "    end_u = end.value // divide_by\n",
    "    return pd.to_datetime(np.random.randint(start_u, end_u, size), unit='D')\n",
    "\n",
    "\n",
    "# How many records do we want to create in our CSV? In this example\n",
    "# we are generating 10, but you could also find relatively fast results generating\n",
    "# much larger datasets\n",
    "size = 10\n",
    "\n",
    "df = pd.DataFrame(columns= ['First', 'Last', 'Gender', 'Birthdate'])\n",
    "df['First'] = random_names('first_names', size)\n",
    "df['Last'] = random_names('last_names', size)\n",
    "df['Gender'] = random_genders(size)\n",
    "df['Birthdate'] = random_dates(start=pd.to_datetime('1940-01-01'), end = pd.to_datetime('2008-01-01'), size=size)\n",
    "\n"
   ]
  },
  {
   "cell_type": "code",
   "execution_count": 5,
   "metadata": {},
   "outputs": [
    {
     "output_type": "execute_result",
     "data": {
      "text/plain": [
       "      First        Last Gender  Birthdate\n",
       "0     Alyse       Boyer      F 1990-10-02\n",
       "1     Mason       Wyman      F 1978-08-22\n",
       "2   Pamelia    Ondricka      F 1982-12-07\n",
       "3    Shanda  Cartwright      F 1994-10-28\n",
       "4  Columbus       Crona      F 1954-11-22\n",
       "5   Antonio   Dickinson      F 1978-05-13\n",
       "6  Araminta     Gleason      F 1971-10-13\n",
       "7   Malinda  Vandervort      F 1953-04-03\n",
       "8     Rowan     Steuber      F 1989-07-18\n",
       "9     Alana   Bashirian      M 1987-08-31"
      ],
      "text/html": "<div>\n<style scoped>\n    .dataframe tbody tr th:only-of-type {\n        vertical-align: middle;\n    }\n\n    .dataframe tbody tr th {\n        vertical-align: top;\n    }\n\n    .dataframe thead th {\n        text-align: right;\n    }\n</style>\n<table border=\"1\" class=\"dataframe\">\n  <thead>\n    <tr style=\"text-align: right;\">\n      <th></th>\n      <th>First</th>\n      <th>Last</th>\n      <th>Gender</th>\n      <th>Birthdate</th>\n    </tr>\n  </thead>\n  <tbody>\n    <tr>\n      <th>0</th>\n      <td>Alyse</td>\n      <td>Boyer</td>\n      <td>F</td>\n      <td>1990-10-02</td>\n    </tr>\n    <tr>\n      <th>1</th>\n      <td>Mason</td>\n      <td>Wyman</td>\n      <td>F</td>\n      <td>1978-08-22</td>\n    </tr>\n    <tr>\n      <th>2</th>\n      <td>Pamelia</td>\n      <td>Ondricka</td>\n      <td>F</td>\n      <td>1982-12-07</td>\n    </tr>\n    <tr>\n      <th>3</th>\n      <td>Shanda</td>\n      <td>Cartwright</td>\n      <td>F</td>\n      <td>1994-10-28</td>\n    </tr>\n    <tr>\n      <th>4</th>\n      <td>Columbus</td>\n      <td>Crona</td>\n      <td>F</td>\n      <td>1954-11-22</td>\n    </tr>\n    <tr>\n      <th>5</th>\n      <td>Antonio</td>\n      <td>Dickinson</td>\n      <td>F</td>\n      <td>1978-05-13</td>\n    </tr>\n    <tr>\n      <th>6</th>\n      <td>Araminta</td>\n      <td>Gleason</td>\n      <td>F</td>\n      <td>1971-10-13</td>\n    </tr>\n    <tr>\n      <th>7</th>\n      <td>Malinda</td>\n      <td>Vandervort</td>\n      <td>F</td>\n      <td>1953-04-03</td>\n    </tr>\n    <tr>\n      <th>8</th>\n      <td>Rowan</td>\n      <td>Steuber</td>\n      <td>F</td>\n      <td>1989-07-18</td>\n    </tr>\n    <tr>\n      <th>9</th>\n      <td>Alana</td>\n      <td>Bashirian</td>\n      <td>M</td>\n      <td>1987-08-31</td>\n    </tr>\n  </tbody>\n</table>\n</div>"
     },
     "metadata": {},
     "execution_count": 5
    }
   ],
   "source": [
    "df.to_csv('./raw_data/fake_file.csv')\n",
    "df.head(20)"
   ]
  },
  {
   "cell_type": "code",
   "execution_count": null,
   "metadata": {},
   "outputs": [],
   "source": []
  },
  {
   "cell_type": "code",
   "execution_count": null,
   "metadata": {},
   "outputs": [],
   "source": []
  }
 ],
 "metadata": {
  "kernelspec": {
   "display_name": "Python 3",
   "language": "python",
   "name": "python3"
  },
  "language_info": {
   "codemirror_mode": {
    "name": "ipython",
    "version": 3
   },
   "file_extension": ".py",
   "mimetype": "text/x-python",
   "name": "python",
   "nbconvert_exporter": "python",
   "pygments_lexer": "ipython3",
   "version": "3.8.5-final"
  }
 },
 "nbformat": 4,
 "nbformat_minor": 4
}